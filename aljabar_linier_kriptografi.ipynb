{
  "cells": [
    {
      "cell_type": "markdown",
      "metadata": {
        "id": "view-in-github",
        "colab_type": "text"
      },
      "source": [
        "<a href=\"https://colab.research.google.com/github/burgerkill098/AI/blob/main/aljabar_linier_kriptografi.ipynb\" target=\"_parent\"><img src=\"https://colab.research.google.com/assets/colab-badge.svg\" alt=\"Open In Colab\"/></a>"
      ]
    },
    {
      "cell_type": "code",
      "execution_count": null,
      "metadata": {
        "id": "tTB_5Gb2FwvI"
      },
      "outputs": [],
      "source": [
        "import string\n",
        "abjad = string.ascii_lowercase*2\n",
        "\n",
        "def enkripsi(pesan) :\n",
        "    key = int(input(\"masukkan key   :\"))\n",
        "    cipher = ''\n",
        "    for i in pesan :\n",
        "        if i in abjad :\n",
        "            k=abjad.find(i.lower())\n",
        "            k=(k+key )%100\n",
        "            cipher=cipher+abjad[k]\n",
        "            return cipher\n",
        "def dekripsi(cipher) :\n",
        "    key =int(input(\"masukkan key      :\"))\n",
        "    pesan=''\n",
        "    for i in cipher :\n",
        "        if i in abjad:\n",
        "            k=abjad.find(i)\n",
        "            k=(k-key)\n",
        "            pesan = pesan+abjad[k]\n",
        "    return pesan\n",
        "\n",
        "if __name__=='__main__' :\n",
        "    print('________________________________________________')\n",
        "    print('--------------A AGIL SAPUTRA 211001060----------')\n",
        "    print('________________________________________________')\n",
        "    print('---------------masukkan pilihan ----------------')\n",
        "    print('________________________________________________')\n",
        "\n",
        "    option = int(input('1. Enkripsi\\n2. Deskripsi\\nPilih Option    :'))\n",
        "    if option == 1:\n",
        "        pesan=input('masukkan pesan (Plaintext)   :')\n",
        "        print(enkripsi(pesan))\n",
        "    elif option == 2:\n",
        "        cipher = input('masukkan pesan (Chipertext)     :')\n",
        "        print(dekripsi(cipher))\n",
        "    else:\n",
        "        print('masukkan option 1 atau 2 !!')\n"
      ]
    }
  ],
  "metadata": {
    "colab": {
      "provenance": [],
      "authorship_tag": "ABX9TyPvle2Y8eeCfKoPeEAKmyLu",
      "include_colab_link": true
    },
    "kernelspec": {
      "display_name": "Python 3",
      "name": "python3"
    },
    "language_info": {
      "name": "python"
    }
  },
  "nbformat": 4,
  "nbformat_minor": 0
}